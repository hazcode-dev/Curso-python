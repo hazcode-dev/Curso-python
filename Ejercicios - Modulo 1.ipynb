{
 "cells": [
  {
   "cell_type": "markdown",
   "id": "a591fcc9",
   "metadata": {},
   "source": [
    "## PREGUNTAS NIVEL BÁSICO"
   ]
  },
  {
   "cell_type": "code",
   "execution_count": null,
   "id": "2a95405e",
   "metadata": {},
   "outputs": [],
   "source": [
    "#1. Imprime tu nombre completo y una frase que te inspire.\n",
    "nombre = \"Juan Andrés\"\n",
    "print(f\"Hola, soy {nombre}. ¡Siempre aprendiendo y creciendo!\") # ✅"
   ]
  },
  {
   "cell_type": "code",
   "execution_count": null,
   "id": "73f2673f",
   "metadata": {},
   "outputs": [],
   "source": [
    "#2. Crea variables para tu edad, altura y ciudad. Muestra los datos con f-strings.\n",
    "edad = 25\n",
    "altura = 1.82\n",
    "ciudad = \"Lima\"\n",
    "print(f\"Mi edad es {edad} años, y tengo {altura} metros de altura. Mi ciudad es {ciudad}.\") # ✅"
   ]
  },
  {
   "cell_type": "code",
   "execution_count": null,
   "id": "78e7eedd",
   "metadata": {},
   "outputs": [],
   "source": [
    "#3. Pide dos números al usuario y muestra su suma, resta, producto y división.\n",
    "n1 = int(input(\"Ingresa el primer número: \"))\n",
    "n2 = int(input(\"Ingresa el segundo número: \"))\n",
    "\n",
    "print(f\"La suma de {n1} y {n2} es {n1 + n2}\") # ✅\n",
    "print(f\"La resta de {n1} y {n2} es {n1 - n2}\") # ✅3\n",
    "print(f\"El producto de {n1} y {n2} es {n1 * n2}\") # ✅\n",
    "print(f\"La división de {n1} entre {n2} es {n1 / n2}\") # ✅"
   ]
  },
  {
   "cell_type": "code",
   "execution_count": null,
   "id": "cc0b40bb",
   "metadata": {},
   "outputs": [],
   "source": [
    "#4. Convierte un número de kilómetros a millas (1 km = 0.621371 mi).\n",
    "km = float(input(\"Ingresa la distancia en kilómetros: \"))\n",
    "mi = km * 0.621371\n",
    "\n",
    "print(f\"{km} kilómetros son {mi:.2f} millas.\") # ✅"
   ]
  },
  {
   "cell_type": "code",
   "execution_count": null,
   "id": "e72d28ec",
   "metadata": {},
   "outputs": [],
   "source": [
    "#5. Calcula el área de un rectángulo a partir de su base y altura.\n",
    "base = float(input(\"Ingresa la base del rectangulo: \"))\n",
    "altura = float(input(\"Ingresa la altura del rectangulo: \"))\n",
    "\n",
    "area = base * altura\n",
    "print(f\"La área del rectangulo es {area:.2f} m2.\") # ✅"
   ]
  },
  {
   "cell_type": "code",
   "execution_count": null,
   "id": "9eb58969",
   "metadata": {},
   "outputs": [],
   "source": [
    "#6. Pregunta tu año de nacimiento y calcula cuántos años tendrás en 2030.\n",
    "año = int(input(\"Ingresa tu año de nacimiento: \"))\n",
    "año_futuro = int(input(\"Ingresa el año futuro: \"))\n",
    "edad_futura = año_futuro - año\n",
    "print(f\"En el {año_futuro}, tendrás {edad_futura} años.\") # ✅"
   ]
  },
  {
   "cell_type": "code",
   "execution_count": 2,
   "id": "58420753",
   "metadata": {},
   "outputs": [
    {
     "name": "stdout",
     "output_type": "stream",
     "text": [
      "El doble del 2 es 4 y el triple es 6.\n"
     ]
    }
   ],
   "source": [
    "#7. Crea un programa que reciba un número entero y muestre su doble y su triple.\n",
    "numero = int(input(\"Ingrese un número entero: \"))\n",
    "doble = numero * 2\n",
    "triple = numero * 3\n",
    "print(f\"El doble del {numero} es {doble} y el triple es {triple}.\") # ✅"
   ]
  },
  {
   "cell_type": "code",
   "execution_count": 3,
   "id": "d023c607",
   "metadata": {},
   "outputs": [
    {
     "name": "stdout",
     "output_type": "stream",
     "text": [
      "El grado 20.0 celsius en grados Fahrenheit es 68.0 °F.\n"
     ]
    }
   ],
   "source": [
    "#8. Crea un convertidor de grados Celsius a Fahrenheit.\n",
    "grados_celsius = float(input(\"Ingrese grados celcius: \"))\n",
    "fahrenheit = (grados_celsius * 9/5) + 32\n",
    "print(f\"El grado {grados_celsius} celsius en grados Fahrenheit es {fahrenheit} °F.\") # ✅"
   ]
  },
  {
   "cell_type": "code",
   "execution_count": 9,
   "id": "4a8803b7",
   "metadata": {},
   "outputs": [
    {
     "name": "stdout",
     "output_type": "stream",
     "text": [
      "El número entero redondeado es 98.\n"
     ]
    }
   ],
   "source": [
    "#9. Pide un número decimal y redondéalo a entero usando int().\n",
    "Numero_decimal = float(input(\"Ingrese un número decimal: \"))\n",
    "numero_entero = round(Numero_decimal) # ✅\n",
    "print(f\"El número entero redondeado es {numero_entero}.\") # ✅"
   ]
  },
  {
   "cell_type": "code",
   "execution_count": 11,
   "id": "d09c6917",
   "metadata": {},
   "outputs": [
    {
     "name": "stdout",
     "output_type": "stream",
     "text": [
      "Tu nombre tiene 24 letras.\n"
     ]
    }
   ],
   "source": [
    "#10. Pide tu nombre y muestra cuántas letras tiene.\n",
    "nombre = input(\"Ingrese tu nombre: \")\n",
    "print(f\"Tu nombre tiene {len(nombre)} letras.\") # ✅"
   ]
  },
  {
   "cell_type": "code",
   "execution_count": null,
   "id": "a4928d63",
   "metadata": {},
   "outputs": [
    {
     "name": "stdout",
     "output_type": "stream",
     "text": [
      "Tu nombre tiene menos de 5 letras.\n"
     ]
    }
   ],
   "source": [
    "# Extra - Ejercicio con len(), donde se tiene que cumplir con una cantidad de letras para ser verdadero\n",
    "nombre = input(\"Ingrese su nombre: \")\n",
    "if len(nombre) >= 5:\n",
    "    print(\"Tu nombre tiene 5 letras o más.\")\n",
    "else:\n",
    "    print(\"Tu nombre tiene menos de 5 letras.\") # ✅\n"
   ]
  },
  {
   "cell_type": "markdown",
   "id": "ae64a4ec",
   "metadata": {},
   "source": [
    "## PREGUNTAS NIVEL INTERMEDIO"
   ]
  },
  {
   "cell_type": "code",
   "execution_count": 38,
   "id": "dd26531f",
   "metadata": {},
   "outputs": [
    {
     "name": "stdout",
     "output_type": "stream",
     "text": [
      "El número es mayor o igual a 10.\n"
     ]
    }
   ],
   "source": [
    "#1. Pide un número y muestra si es mayor, menor o igual a 10.\n",
    "numero = int(input(\"Ingrese un número: \"))\n",
    "if numero >= 10:\n",
    "    print(\"El número es mayor o igual a 10.\")\n",
    "elif numero < 10:\n",
    "    print(\"El número es menor a 10.\")\n",
    "else:\n",
    "    print(\"El número es igual a 10.\")"
   ]
  },
  {
   "cell_type": "markdown",
   "id": "43761bb6",
   "metadata": {},
   "source": [
    "En Python, if, elif, y else son sentencias condicionales que permiten tomar decisiones en la ejecución de un programa. \n",
    "* if: Ejecuta un bloque de código si una condición es verdadera.\n",
    "* elif: (abreviatura de \"else if\") Evalúa una condición adicional si la condición anterior if o elif es falsa.\n",
    "* else: Ejecuta un bloque de código si ninguna de las condiciones anteriores if o elif es verdadera.\n",
    "\n"
   ]
  },
  {
   "cell_type": "code",
   "execution_count": null,
   "id": "65544ac9",
   "metadata": {},
   "outputs": [],
   "source": [
    "#2. Crea un programa que verifique si una persona puede votar (mayor de 18 años).\n",
    "edad = int(input(\"Ingrese su edad: \"))\n",
    "if edad >= 18:\n",
    "    print(\"Puedes votar\")\n",
    "else:\n",
    "    print(\"No puedes votar\")"
   ]
  },
  {
   "cell_type": "code",
   "execution_count": null,
   "id": "d33d0dae",
   "metadata": {},
   "outputs": [
    {
     "name": "stdout",
     "output_type": "stream",
     "text": [
      "El mayor es 56\n"
     ]
    }
   ],
   "source": [
    "# 3. Pide dos números y muestra el mayor (usa if).\n",
    "numero_1 = int(input(\"Ingrese el primer número: \"))\n",
    "numero_2 = int(input(\"Ingrese el segundo número: \"))\n",
    "\n",
    "if numero_1 > numero_2:\n",
    "    print(f\"El mayor es {numero_1}\")\n",
    "else:\n",
    "    print(f\"El mayor es {numero_2}\")"
   ]
  },
  {
   "cell_type": "code",
   "execution_count": null,
   "id": "942f54dc",
   "metadata": {},
   "outputs": [
    {
     "name": "stdout",
     "output_type": "stream",
     "text": [
      "Eres normal\n"
     ]
    }
   ],
   "source": [
    "#4. Calcular el IMC de una persona y muestra su categoría según el resultado.\n",
    "peso = float(input(\"Ingrese su peso en kg: \"))\n",
    "altura = float(input(\"Ingrese su altura en cm: \"))\n",
    "imc = peso / (altura ** 2)\n",
    "\n",
    "if imc < 18.5:\n",
    "    print(\"Eres bajo peso\")\n",
    "elif imc < 25:\n",
    "    print(\"Eres normal\")\n",
    "else:\n",
    "    print(\"Eres alto peso\")\n"
   ]
  },
  {
   "cell_type": "code",
   "execution_count": null,
   "id": "cfb4553f",
   "metadata": {},
   "outputs": [
    {
     "name": "stdout",
     "output_type": "stream",
     "text": [
      "Es par\n"
     ]
    }
   ],
   "source": [
    "#5. Pide un número y muestra si es par o impar.\n",
    "numero = int(input(\"Ingrese un número: \"))\n",
    "if numero % 2 == 0:\n",
    "# El % es el operador módulo, que devuelve el residuo de la división\n",
    "    print(\"Es par\")\n",
    "else:\n",
    "    print(\"Es impar\")"
   ]
  },
  {
   "cell_type": "code",
   "execution_count": null,
   "id": "5a7540a5",
   "metadata": {},
   "outputs": [
    {
     "name": "stdout",
     "output_type": "stream",
     "text": [
      "Aprobaste\n"
     ]
    }
   ],
   "source": [
    "# 6. Solicita dos notas y muestra si aprobaste (>=13) o desaprobaste.\n",
    "nota_1 = float(input(\"Ingrese la primera nota: \"))\n",
    "nota_2 = float(input(\"Ingrese la segunda nota: \"))\n",
    "promedio = (nota_1 + nota_2) / 2\n",
    "\n",
    "if promedio >= 13:\n",
    "    print(\"Aprobaste\")\n",
    "else:\n",
    "    print(\"Desaprobaste\")"
   ]
  },
  {
   "cell_type": "code",
   "execution_count": null,
   "id": "46402341",
   "metadata": {},
   "outputs": [
    {
     "name": "stdout",
     "output_type": "stream",
     "text": [
      "La segunda palabra es más larga: juan andres hazaaaña tronaldo muñoz\n"
     ]
    }
   ],
   "source": [
    "# 7. Pide dos palabras y muestra cuál es más larga.\n",
    "palabra_1 = input(\"Ingrese la primera palabra: \")\n",
    "palabra_2 = input(\"Ingrese la segunda palabra: \")\n",
    "\n",
    "# El método len() devuelve la longitud de la cadena\n",
    "if len(palabra_1) > len(palabra_2):\n",
    "    print(f\"La primera palabra es más larga: {palabra_1}\")\n",
    "else:\n",
    "    print(f\"La segunda palabra es más larga: {palabra_2}\")"
   ]
  },
  {
   "cell_type": "code",
   "execution_count": null,
   "id": "1aaad4e7",
   "metadata": {},
   "outputs": [
    {
     "name": "stdout",
     "output_type": "stream",
     "text": [
      "juan\n",
      "juan\n",
      "juan\n"
     ]
    }
   ],
   "source": [
    "# 8. Pide tu nombre y un número, y repite tu nombre esa cantidad de veces.\n",
    "nombre = input(\"Ingrese su nombre: \")\n",
    "numero = int(input(\"Ingrese un número: \"))\n",
    "\n",
    "for i in range(numero):\n",
    "    print(nombre)"
   ]
  },
  {
   "cell_type": "code",
   "execution_count": null,
   "id": "44c00ba7",
   "metadata": {},
   "outputs": [
    {
     "name": "stdout",
     "output_type": "stream",
     "text": [
      "El IGV es de 7.2 y el precio total es 47.2.\n"
     ]
    }
   ],
   "source": [
    "# 9. Pide el precio de un producto y calcula el IGV (18%) y el precio total.\n",
    "precio_producto = float(input(\"Ingrese el precio del producto: \"))\n",
    "# El round() redondea el número a 2 decimales\n",
    "igv = round(precio_producto * 0.18, 2)\n",
    "precio_total = precio_producto + igv\n",
    "print(f\"El IGV es de {igv} y el precio total es {precio_total}.\")\n"
   ]
  },
  {
   "cell_type": "code",
   "execution_count": null,
   "id": "16b32678",
   "metadata": {},
   "outputs": [
    {
     "name": "stdout",
     "output_type": "stream",
     "text": [
      "\n",
      "Tipo de dato de las variables:\n",
      "- Edad: <class 'int'>\n",
      "- Altura: <class 'float'>\n",
      "- Activo: <class 'bool'>\n",
      "- Nombre: <class 'str'>    \n",
      "\n"
     ]
    }
   ],
   "source": [
    "# 10. Muestra el tipo de dato de todas las variables ingresadas por el usuario\n",
    "# (edad, altura, activo, nombre).\n",
    "\n",
    "edad = int(input(\"Ingrese su edad: \"))\n",
    "altura = float(input(\"Ingrese su altura: \"))\n",
    "activo = bool(input(\"¿Estás activo? \"))\n",
    "nombre = input(\"Ingrese su nombre: \")\n",
    "# str(nombre) devuelve una cadena y bool() devuelve un valor booleano\n",
    "print(f\"\"\"\n",
    "Tipo de dato de las variables:\n",
    "- Edad: {type(edad)}\n",
    "- Altura: {type(altura)}\n",
    "- Activo: {type(activo)}\n",
    "- Nombre: {type(nombre)}    \n",
    "\"\"\") "
   ]
  },
  {
   "cell_type": "markdown",
   "id": "fd33242b",
   "metadata": {},
   "source": [
    "# PREGUNTAS DE NIVEL AVANZADO"
   ]
  },
  {
   "cell_type": "code",
   "execution_count": 46,
   "id": "8f169e5a",
   "metadata": {},
   "outputs": [
    {
     "name": "stdout",
     "output_type": "stream",
     "text": [
      "En dólares son 2.63 y en euros son 2.38.\n"
     ]
    }
   ],
   "source": [
    "# 1. Pide una cantidad en soles y convierte a dólares y euros (usa tasas simuladas). \n",
    "cantidad_soles = float(input(\"Ingrese la cantidad en soles: \"))\n",
    "cantidad_soles = round(cantidad_soles, 2)\n",
    "cantidad_dolares = round(cantidad_soles / 3.8, 2)\n",
    "cantidad_euros = round(cantidad_soles / 4.2, 2)\n",
    "print(f\"En dólares son {cantidad_dolares} y en euros son {cantidad_euros}.\")\n"
   ]
  },
  {
   "cell_type": "code",
   "execution_count": 47,
   "id": "72e35bad",
   "metadata": {},
   "outputs": [
    {
     "name": "stdout",
     "output_type": "stream",
     "text": [
      "Eres adulto\n"
     ]
    }
   ],
   "source": [
    "\"\"\" 2. Pide al usuario su edad y evalúa:\n",
    "Si es menor de 12: niño\n",
    "Entre 13 y 17: adolescente\n",
    "Entre 18 y 59: adulto\n",
    "60+: adulto mayor \"\"\"\n",
    "\n",
    "edad = int(input(\"Ingrese su edad: \"))\n",
    "if edad < 12:\n",
    "    print(\"Eres niño\")\n",
    "elif edad < 18: \n",
    "    print(\"Eres adolescente\")\n",
    "elif edad < 60:\n",
    "    print(\"Eres adulto\")\n",
    "else:\n",
    "    print(\"Eres adulto mayor\")"
   ]
  },
  {
   "cell_type": "code",
   "execution_count": 3,
   "id": "e77674a4",
   "metadata": {},
   "outputs": [
    {
     "name": "stdout",
     "output_type": "stream",
     "text": [
      "Has vivido aproximadamente 630720000 segundos.\n"
     ]
    }
   ],
   "source": [
    "# 3. Calcula cuántos segundos ha vivido una persona según su edad aproximada.\n",
    "edad = int(input(\"Ingrese su edad: \"))\n",
    "edad_aproximada = edad * 365 * 24 * 60 * 60\n",
    "print(f\"Has vivido aproximadamente {edad_aproximada} segundos.\")"
   ]
  },
  {
   "cell_type": "code",
   "execution_count": 4,
   "id": "9fe771ad",
   "metadata": {},
   "outputs": [
    {
     "name": "stdout",
     "output_type": "stream",
     "text": [
      "JH-2002-5-7\n"
     ]
    }
   ],
   "source": [
    "# 4. Pide el día, mes y año de nacimiento, y muestra su “clave de identidad”\n",
    "# como: JH-2003-05-12.\n",
    "dia = input(\"Ingrese el día de nacimiento: \")\n",
    "mes = input(\"Ingrese el mes de nacimiento: \")\n",
    "año = input(\"Ingrese el año de nacimiento: \")\n",
    "\n",
    "clave = f\"JH-{año}-{mes}-{dia}\"\n",
    "print(clave)"
   ]
  },
  {
   "cell_type": "code",
   "execution_count": 9,
   "id": "0a3dfb3c",
   "metadata": {},
   "outputs": [
    {
     "name": "stdout",
     "output_type": "stream",
     "text": [
      "tu sueldo neto es 1260.0 soles.\n"
     ]
    }
   ],
   "source": [
    "# 5. Simula una boleta de pago simple: pide sueldo base, bonificación y\n",
    "# descuento. Muestra el sueldo neto.\n",
    "\n",
    "sueldo_base = float(input(\"Ingrese el sueldo base: \"))\n",
    "bonificacion = sueldo_base * 0.10\n",
    "descuento = sueldo_base * 0.05\n",
    "neto = sueldo_base + bonificacion - descuento\n",
    "\n",
    "print(f\"tu sueldo neto es {neto} soles.\")\n"
   ]
  },
  {
   "cell_type": "code",
   "execution_count": 12,
   "id": "d55af96a",
   "metadata": {},
   "outputs": [
    {
     "name": "stdout",
     "output_type": "stream",
     "text": [
      "| Nombre | Juan |\n",
      "| Edad | 22 |\n",
      "| Carrera | Ing. Industrial |\n"
     ]
    }
   ],
   "source": [
    "\"\"\" 6. Muestra tu información personal formateada como tabla:\n",
    "+------------------+----------------+\n",
    "| Dato             | Valor          |\n",
    "+------------------+----------------+\n",
    "| Nombre           | Juan           |\n",
    "| Edad             | 22             |\n",
    "| Carrera          | Ing. Industrial|\n",
    "+------------------+----------------+ \"\"\"\n",
    "\n",
    "datos = {\n",
    "    \"Nombre\": \"Juan\",\n",
    "    \"Edad\": 22,\n",
    "    \"Carrera\": \"Ing. Industrial\"\n",
    "}\n",
    "\n",
    "for dato, valor in datos.items():\n",
    "    print(f\"| {dato} | {valor} |\")"
   ]
  },
  {
   "cell_type": "code",
   "execution_count": null,
   "id": "94343aad",
   "metadata": {},
   "outputs": [
    {
     "name": "stdout",
     "output_type": "stream",
     "text": [
      "¡Error! Debe ingresar un número\n"
     ]
    }
   ],
   "source": [
    "\"\"\" 7. Crea un “validador de edad”: si el usuario escribe un texto en vez de\n",
    "número, muestra un error elegante. \"\"\" \n",
    "\n",
    "edad = input(\"Ingrese su edad: \")\n",
    "# .isdigit() verifica si la cadena es un número\n",
    "if edad.isdigit():\n",
    "    edad = int(edad)\n",
    "    print(f\"Tu edad es {edad} años.\")\n",
    "else:\n",
    "    print(\"¡Error! Debe ingresar un número\")"
   ]
  },
  {
   "cell_type": "code",
   "execution_count": null,
   "id": "ccac8740",
   "metadata": {},
   "outputs": [],
   "source": [
    "\"\"\"8. Simula una entrevista de ingreso:\n",
    "Pide nombre, edad, experiencia, y si cumple condiciones, muestra:\n",
    "“¡Apto para el puesto!”.\n",
    "\"\"\"\n",
    "\n",
    "nombre = input(\"Ingrese su nombre: \")\n",
    "edad = input(\"Ingrese su edad: \")\n",
    "experiencia = input(\"Ingrese su experiencia: \")\n",
    "\n",
    "if edad.isdigit() and edad >= 18:\n",
    "    if int(experiencia) >= 10:\n",
    "        print(\"¡Apto para el puesto!\")\n",
    "    else:\n",
    "        print(\"¡No es apto para el puesto!\")\n",
    "else:\n",
    "    print(\"¡Error! Debe ingresar un número y mayor de 18\")"
   ]
  },
  {
   "cell_type": "code",
   "execution_count": 3,
   "id": "8ab1c2a7",
   "metadata": {},
   "outputs": [
    {
     "name": "stdout",
     "output_type": "stream",
     "text": [
      "El promedio es 66.92\n"
     ]
    }
   ],
   "source": [
    "# 9. Pide 3 números e imprime el promedio, redondeado a 2 decimales.\n",
    "\n",
    "numero_1 = float(input(\"Ingrese el primer número: \"))\n",
    "numero_2 = float(input(\"Ingrese el segundo número: \"))\n",
    "numero_3 = float(input(\"Ingrese el tercer número: \"))\n",
    "\n",
    "promedio = (numero_1 + numero_2 + numero_3) / 3\n",
    "\n",
    "print(f\"El promedio es {promedio:.2f}\")"
   ]
  },
  {
   "cell_type": "code",
   "execution_count": 4,
   "id": "6d5def04",
   "metadata": {},
   "outputs": [
    {
     "name": "stdout",
     "output_type": "stream",
     "text": [
      "El total a pagar es 49.0\n",
      "La propina es 1.0\n"
     ]
    }
   ],
   "source": [
    "\"\"\"\n",
    "10. Crea un programa que simule una calculadora de propinas:\n",
    "Pide el total de una cuenta y porcentaje de propina.\n",
    "Muestra el total a pagar y cuánto es la propina.\n",
    "\"\"\"\n",
    "total_cuenta = float(input(\"Ingrese el total de la cuenta: \"))\n",
    "porcentaje_propina = float(input(\"Ingrese el porcentaje de propina: \"))\n",
    "propina = total_cuenta * porcentaje_propina / 100\n",
    "print(f\"El total a pagar es {total_cuenta - propina}\")\n",
    "print(f\"La propina es {propina}\")"
   ]
  },
  {
   "cell_type": "markdown",
   "id": "cca807e7",
   "metadata": {},
   "source": [
    "# Ejercicios - Modulo 5"
   ]
  },
  {
   "cell_type": "code",
   "execution_count": 2,
   "id": "6879eca4",
   "metadata": {},
   "outputs": [
    {
     "name": "stdout",
     "output_type": "stream",
     "text": [
      "1. Cien Años de Soledad\n",
      "2. El Principito\n",
      "3. Don Quijote\n",
      "4. Harry Potter\n",
      "5. Mafalda\n",
      "Libro vendido: El Principito. Stock restante: 7\n",
      "{'Cien Años de Soledad': 5, 'El Principito': 7, 'Don Quijote': 3, 'Harry Potter': 10, 'Mafalda': 4}\n",
      "1. Cien Años de Soledad\n",
      "2. El Principito\n",
      "3. Don Quijote\n",
      "4. Harry Potter\n",
      "5. Mafalda\n",
      "Libro comprado: Cien Años de Soledad. Stock total: 6\n"
     ]
    }
   ],
   "source": [
    "inventario = {\n",
    "    \"Cien Años de Soledad\": 5,\n",
    "    \"El Principito\": 8,\n",
    "    \"Don Quijote\": 3,\n",
    "    \"Harry Potter\": 10,\n",
    "    \"Mafalda\": 4,\n",
    "}\n",
    "\n",
    "while True:\n",
    "    opcion = input(\"\\n1. Vender\\n2. Comprar\\n3. Listar\\n4. Salir\\n\")\n",
    "    if opcion == \"1\":\n",
    "        libros = list(inventario.keys())\n",
    "        for i, nombre in enumerate(libros, 1):\n",
    "            print(f\"{i}. {nombre}\")\n",
    "        num = int(input(\"Elige el número del libro a vender: \"))\n",
    "        libro = libros[num - 1]\n",
    "        if inventario[libro] > 0:\n",
    "            inventario[libro] -= 1\n",
    "            print(f\"Libro vendido: {libro}. Stock restante: {inventario[libro]}\")\n",
    "        else:\n",
    "            print(\"No hay stock disponible.\")\n",
    "    elif opcion == \"2\":\n",
    "        libros = list(inventario.keys())\n",
    "        for i, nombre in enumerate(libros, 1):\n",
    "            print(f\"{i}. {nombre}\")\n",
    "        num = int(input(\"Elige el número del libro a comprar: \"))\n",
    "        libro = libros[num - 1]\n",
    "        cantidad = int(input(\"¿Cuántas unidades desea comprar?: \"))\n",
    "        inventario[libro] += cantidad\n",
    "        print(f\"Libro comprado: {libro}. Stock total: {inventario[libro]}\")\n",
    "    elif opcion == \"3\":\n",
    "        print(inventario)\n",
    "    else:\n",
    "        break"
   ]
  },
  {
   "cell_type": "code",
   "execution_count": 4,
   "id": "ae87ce09",
   "metadata": {},
   "outputs": [],
   "source": [
    "inventario = {\n",
    "    \"Cien Años de Soledad\": 5,\n",
    "    \"El Principito\": 8,\n",
    "    \"Don Quijote\": 3,\n",
    "    \"Harry Potter\": 10,\n",
    "    \"Mafalda\": 4,\n",
    "}\n",
    "\n",
    "while True:\n",
    "    opcion = input(\"\\n1. Vender\\n2. Comprar\\n3. Listar\\n4. Agregar título\\n5. Eliminar título\\n6. Salir\\n\")\n",
    "    if opcion == \"1\":\n",
    "        libros = list(inventario.keys())\n",
    "        for i, nombre in enumerate(libros, 1):\n",
    "            print(f\"{i}. {nombre}\")\n",
    "        num = int(input(\"Elige el número del libro a vender: \"))\n",
    "        libro = libros[num - 1]\n",
    "        if inventario[libro] > 0:\n",
    "            inventario[libro] -= 1\n",
    "            print(f\"Libro vendido: {libro}. Stock restante: {inventario[libro]}\")\n",
    "        else:\n",
    "            print(\"No hay stock disponible.\")\n",
    "    elif opcion == \"2\":\n",
    "        libros = list(inventario.keys())\n",
    "        for i, nombre in enumerate(libros, 1):\n",
    "            print(f\"{i}. {nombre}\")\n",
    "        num = int(input(\"Elige el número del libro a comprar: \"))\n",
    "        libro = libros[num - 1]\n",
    "        cantidad = int(input(\"¿Cuántas unidades desea comprar?: \"))\n",
    "        inventario[libro] += cantidad\n",
    "        print(f\"Libro comprado: {libro}. Stock total: {inventario[libro]}\")\n",
    "    elif opcion == \"3\":\n",
    "        print(inventario)\n",
    "    elif opcion == \"4\":\n",
    "        nuevo_libro = input(\"Nombre del nuevo libro: \")\n",
    "        if nuevo_libro in inventario:\n",
    "            print(\"Ese libro ya existe en el inventario.\")\n",
    "        else:\n",
    "            stock = int(input(\"Stock inicial: \"))\n",
    "            inventario[nuevo_libro] = stock\n",
    "            print(f\"Libro '{nuevo_libro}' agregado con {stock} unidades.\")\n",
    "    elif opcion == \"5\":\n",
    "        libro_eliminar = input(\"Nombre del libro a eliminar: \")\n",
    "        if libro_eliminar in inventario:\n",
    "            del inventario[libro_eliminar]\n",
    "            print(f\"Libro '{libro_eliminar}' eliminado del inventario.\")\n",
    "        else:\n",
    "            print(\"Ese libro no existe en el inventario.\")\n",
    "    elif opcion == \"6\":\n",
    "        break"
   ]
  },
  {
   "cell_type": "code",
   "execution_count": null,
   "id": "53cfd353",
   "metadata": {},
   "outputs": [
    {
     "name": "stdout",
     "output_type": "stream",
     "text": [
      "La venta del Jueves para laptop fue de 3 unidades.\n",
      "La venta del Jueves para mouse fue de 4 unidades.\n",
      "La venta del Jueves para tecladofue de 2 unidades.\n"
     ]
    }
   ],
   "source": [
    "ventas = {\n",
    "    \"Laptop\":    [2, 1, 0, 3, 2, 4, 1],  # Lunes a domingo\n",
    "    \"Mouse\":     [5, 3, 2, 4, 3, 6, 2],\n",
    "    \"Teclado\":   [1, 0, 1, 2, 1, 1, 0]\n",
    "}\n",
    "dias = [\"Lunes\", \"Martes\", \"Miércoles\", \"Jueves\", \"Viernes\", \"Sábado\", \"Domingo\"]\n",
    "\n",
    "while True: \n",
    "    opcion = input(\"\\n1. Registrar venta\\n2. Consultar ventas por producto\\n3. Consultar ventas por dia\\n4. Producto más vendidod de la semana\\n.5 Días con más ventas totales\\n.6 salir\\n\")\n",
    "    if opcion == \"1\":\n",
    "        productos = list(ventas.keys())\n",
    "        for i, nombre in enumerate(ventas, 1):\n",
    "            print(f\"{i}. {nombre}\")\n",
    "        num = int(input(\"Elige el número del producto a vender: \"))\n",
    "        producto = productos[num - 1]\n",
    "        cantidad = int(input(\"¿Cuántas unidades desea vender?: \"))\n",
    "        if cantidad > 0:\n",
    "            dia = int(input(\"Ingrese el día de la semana (1 para Lunes, 2 para Martes, ..., 7 para Domingo): \"))\n",
    "            if 1 <= dia <= 7:\n",
    "                ventas[producto][dia - 1] += cantidad\n",
    "                print(f\"Venta registrada: {cantidad} unidades de {producto} el {dias[dia - 1]}.\")\n",
    "            else:\n",
    "                print(\"Día inválido. Debe estar entre 1 y 7.\")\n",
    "        else:\n",
    "            print(\"No puedes vender cero unidades.\")\n",
    "    elif opcion == \"2\":\n",
    "        productos = list(ventas.keys())\n",
    "        for i, nombre in enumerate(ventas, 1):\n",
    "            print(f\"{i}. {nombre}\")\n",
    "        num = int(input(\"Elige el número del producto a consultar: \"))\n",
    "        producto = productos[num - 1]\n",
    "        dia = int(input(\"Ingrese el día de la semana (1 para Lunes, 2 para Martes, ..., 7 para Domingo): \"))\n",
    "        if 1 <= dia <= 7:\n",
    "            print(f\"La venta de {producto} el {dias[dia - 1]} fue de {ventas[producto][dia - 1]} unidades.\")\n",
    "        else:\n",
    "            print(\"Día inválido. Debe estar entre 1 y 7.\")\n",
    "    elif opcion == \"3\":\n",
    "        dia = int(input(\"Ingrese el día de la semana (1 para Lunes, 2 para Martes, ..., 7 para Domingo): \"))\n",
    "        if 1 <= dia <= 7:\n",
    "            print(f\"La venta del {dias[dia - 1]} para laptop fue de {ventas['Laptop'][dia - 1]} unidades.\")\n",
    "            print(f\"La venta del {dias[dia - 1]} para mouse fue de {ventas['Mouse'][dia - 1]} unidades.\")\n",
    "            print(f\"La venta del {dias[dia - 1]} para teclado fue de {ventas['Teclado'][dia - 1]} unidades.\")\n",
    "        else:\n",
    "            print(\"Día inválido. Debe estar entre 1 y 7.\")\n",
    "    elif opcion == \"4\":\n",
    "        dia = int(input(\"Ingrese el día de la semana (1 para Lunes, 2 para Martes, ..., 7 para Domingo): \"))\n",
    "        laptop = ventas[\"Laptop\"][dia - 1]\n",
    "        mouse = ventas[\"Mouse\"][dia - 1]\n",
    "        teclado = ventas[\"Teclado\"][dia - 1]\n",
    "        if laptop > mouse and laptop > teclado:\n",
    "            print(f\"El producto más vendido de la semana fue Laptop con {laptop} unidades.\")\n",
    "        elif mouse > teclado:\n",
    "            print(f\"El producto más vendido de la semana fue Mouse con {mouse} unidades.\")\n",
    "        else:\n",
    "            print(f\"El producto más vendido de la semana fue Teclado con {teclado} unidades.\")\n",
    "    elif opcion == \"5\":\n",
    "            ventas_totales_por_dia = [sum(ventas[producto][dia] for producto in ventas) for dia in range(7)]\n",
    "            dia_mayor_ventas = ventas_totales_por_dia.index(max(ventas_totales_por_dia))\n",
    "            print(f\"El día con mayor ventas fue {dias[dia_mayor_ventas]} y fue de {ventas_totales_por_dia[dia_mayor_ventas]} unidades.\")\n",
    "    elif opcion == \"6\":\n",
    "        break"
   ]
  }
 ],
 "metadata": {
  "kernelspec": {
   "display_name": "Python 3",
   "language": "python",
   "name": "python3"
  },
  "language_info": {
   "codemirror_mode": {
    "name": "ipython",
    "version": 3
   },
   "file_extension": ".py",
   "mimetype": "text/x-python",
   "name": "python",
   "nbconvert_exporter": "python",
   "pygments_lexer": "ipython3",
   "version": "3.12.3"
  }
 },
 "nbformat": 4,
 "nbformat_minor": 5
}
